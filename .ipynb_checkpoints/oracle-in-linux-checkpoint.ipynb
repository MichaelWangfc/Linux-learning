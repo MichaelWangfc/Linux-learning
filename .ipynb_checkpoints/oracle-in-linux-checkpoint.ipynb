{
 "cells": [
  {
   "cell_type": "markdown",
   "metadata": {},
   "source": [
    "## install oracle client"
   ]
  },
  {
   "cell_type": "markdown",
   "metadata": {},
   "source": [
    "### 中文乱码问题\n",
    "Lang = en_US.UTF-8 ./runinstaler"
   ]
  },
  {
   "cell_type": "markdown",
   "metadata": {},
   "source": [
    "#### 配置文件\n",
    "yum install -y binutils*\n",
    "yum install -y compat-libstdc*\n",
    "yum install -y elfutils-libelf*\n",
    "yum install -y gcc*\n",
    "yum install -y glibc*\n",
    "yum install -y ksh*\n",
    "yum install -y libaio*\n",
    "yum install -y libgcc*\n",
    "yum install -y libstdc*\n",
    "yum install -y make*\n",
    "yum install -y sysstat*\n",
    "yum install libXp* -y\n",
    "yum install -y glibc-kernheaders "
   ]
  }
 ],
 "metadata": {
  "kernelspec": {
   "display_name": "Python [default]",
   "language": "python",
   "name": "python3"
  },
  "language_info": {
   "codemirror_mode": {
    "name": "ipython",
    "version": 3
   },
   "file_extension": ".py",
   "mimetype": "text/x-python",
   "name": "python",
   "nbconvert_exporter": "python",
   "pygments_lexer": "ipython3",
   "version": "3.6.0"
  }
 },
 "nbformat": 4,
 "nbformat_minor": 2
}
