{
 "cells": [
  {
   "cell_type": "markdown",
   "metadata": {
    "slideshow": {
     "slide_type": "slide"
    }
   },
   "source": [
    "# Linux command"
   ]
  },
  {
   "cell_type": "code",
   "execution_count": null,
   "metadata": {
    "collapsed": true,
    "slideshow": {
     "slide_type": "slide"
    }
   },
   "outputs": [],
   "source": [
    "启动命令窗口\n",
    "Alt+F2\n",
    "输入 gnome-terminal"
   ]
  },
  {
   "cell_type": "code",
   "execution_count": null,
   "metadata": {
    "collapsed": true
   },
   "outputs": [],
   "source": [
    "Reference:\n",
    "   \n",
    "http://www.runoob.com/linux/linux-command-manual.html\n",
    "    "
   ]
  },
  {
   "cell_type": "code",
   "execution_count": null,
   "metadata": {
    "collapsed": true
   },
   "outputs": [],
   "source": [
    "pwd\n",
    "输出当前工作目录"
   ]
  },
  {
   "cell_type": "code",
   "execution_count": null,
   "metadata": {
    "collapsed": true
   },
   "outputs": [],
   "source": [
    "ls\n",
    "\n",
    "以易读的方式显示文件大小(显示为MB,GB...)\n",
    "$ ls -lh\n",
    "\n",
    "以最后修改时间升序列出文件\n",
    "$ ls -ltr\n",
    "\n",
    "在文件名后面显示文件类型\n",
    "$ ls -F"
   ]
  },
  {
   "cell_type": "code",
   "execution_count": null,
   "metadata": {
    "collapsed": true
   },
   "outputs": [],
   "source": [
    "cd\n",
    "cd -可以在最近工作的两个目录间切换"
   ]
  },
  {
   "cell_type": "code",
   "execution_count": null,
   "metadata": {
    "collapsed": true
   },
   "outputs": [],
   "source": [
    "mkdir\n",
    "在home目录下创建一个名为temp的目录\n",
    "\n",
    "$ mkdir ~/temp\n",
    "使用-p选项可以创建一个路径上所有不存在的目录\n",
    "\n",
    "$ mkdir -p dir1/dir2/dir3/dir4/"
   ]
  },
  {
   "cell_type": "code",
   "execution_count": null,
   "metadata": {
    "collapsed": true
   },
   "outputs": [],
   "source": [
    "find\n",
    "查找指定文件名的文件(不区分大小写)\n",
    "$ find -iname \"MyProgram.c\"\n",
    "\n",
    "对找到的文件执行某个命令\n",
    "$ find -iname \"MyProgram.c\" -exec md5sum {} \\;\n",
    "\n",
    "查找home目录下的所有空文件\n",
    "\n",
    "$ find ~ -empty"
   ]
  },
  {
   "cell_type": "code",
   "execution_count": null,
   "metadata": {
    "collapsed": true
   },
   "outputs": [],
   "source": [
    "ssh\n",
    "登录到远程主机\n",
    "$ ssh -l jsmith remotehost.example.com\n",
    "\n",
    "调试ssh客户端\n",
    "$ ssh -v -l jsmith remotehost.example.com\n",
    "\n",
    "显示ssh客户端版本\n",
    "$ ssh -V"
   ]
  },
  {
   "cell_type": "code",
   "execution_count": null,
   "metadata": {
    "collapsed": true
   },
   "outputs": [],
   "source": [
    "export\n",
    "输出跟字符串oracle匹配的环境变量\n",
    "$ export | grep ORCALE\n",
    "\n",
    "declare -x ORACLE_BASE=\"/u01/app/oracle\"\n",
    "declare -x ORACLE_HOME=\"/u01/app/oracle/product/10.2.0\"\n",
    "declare -x ORACLE_SID=\"med\"\n",
    "declare -x ORACLE_TERM=\"xterm\"\n",
    "\n",
    "设置全局环境变量\n",
    "$ export ORACLE_HOME=/u01/app/oracle/product/10.2.0"
   ]
  },
  {
   "cell_type": "code",
   "execution_count": null,
   "metadata": {
    "collapsed": true
   },
   "outputs": [],
   "source": [
    "Shell echo命令\n",
    "http://www.runoob.com/linux/linux-shell-echo.html\n",
    "    \n",
    "Shell 的 echo 指令与 PHP 的 echo 指令类似，都是用于字符串的输出。命令格式：\n",
    "echo string\n",
    "\n",
    "您可以使用echo实现更复杂的输出格式控制。\n",
    "1.显示普通字符串:\n",
    "echo \"It is a test\"\n",
    "这里的双引号完全可以省略，以下命令与上面实例效果一致：\n",
    "echo It is a test\n",
    "\n",
    "2.显示转义字符\n",
    "echo \"\\\"It is a test\\\"\"\n",
    "结果将是:\n",
    "\"It is a test\"\n",
    "同样，双引号也可以省略\n",
    "\n",
    "3.显示变量\n",
    "read 命令从标准输入中读取一行,并把输入行的每个字段的值指定给 shell 变量\n",
    "#!/bin/sh\n",
    "read name \n",
    "echo \"$name It is a test\"\n",
    "以上代码保存为 test.sh，name 接收标准输入的变量，结果将是:\n",
    "[root@www ~]# sh test.sh\n",
    "OK                     #标准输入\n",
    "OK It is a test        #输出\n",
    "\n",
    "4.显示换行\n",
    "echo -e \"OK! \\n\" # -e 开启转义\n",
    "echo \"It it a test\"\n",
    "输出结果：\n",
    "OK!\n",
    "\n",
    "It it a test\n",
    "5.显示不换行\n",
    "#!/bin/sh\n",
    "echo -e \"OK! \\c\" # -e 开启转义 \\c 不换行\n",
    "echo \"It is a test\"\n",
    "输出结果：\n",
    "OK! It is a test\n",
    "6.显示结果定向至文件\n",
    "echo \"It is a test\" > myfile\n",
    "7.原样输出字符串，不进行转义或取变量(用单引号)\n",
    "echo '$name\\\"'\n",
    "输出结果：\n",
    "$name\\\"\n",
    "8.显示命令执行结果\n",
    "echo `date`\n",
    "注意： 这里使用的是反引号 `, 而不是单引号 '。\n",
    "结果将显示当前日期\n",
    "Thu Jul 24 10:08:46 CST 2014"
   ]
  },
  {
   "cell_type": "code",
   "execution_count": null,
   "metadata": {
    "collapsed": true
   },
   "outputs": [],
   "source": [
    "Shell printf 命令\n",
    "上一章节我们学习了 Shell 的 echo 命令，本章节我们来学习 Shell 的另一个输出命令 printf。\n",
    "printf 命令模仿 C 程序库（library）里的 printf() 程序。\n",
    "标准所定义，因此使用printf的脚本比使用echo移植性好。\n",
    "printf 使用引用文本或空格分隔的参数，外面可以在printf中使用格式化字符串，还可以制定字符串的宽度、左右对齐方式等。默认printf不会像 echo 自动添加换行符，我们可以手动添加 \\n。\n",
    "printf 命令的语法：\n",
    "\n",
    "#!/bin/bash\n",
    "# author:菜鸟教程\n",
    "# url:www.runoob.com\n",
    " \n",
    "printf \"%-10s %-8s %-4s\\n\" 姓名 性别 体重kg  \n",
    "printf \"%-10s %-8s %-4.2f\\n\" 郭靖 男 66.1234 \n",
    "printf \"%-10s %-8s %-4.2f\\n\" 杨过 男 48.6543 \n",
    "printf \"%-10s %-8s %-4.2f\\n\" 郭芙 女 47.9876 "
   ]
  },
  {
   "cell_type": "code",
   "execution_count": null,
   "metadata": {
    "collapsed": true
   },
   "outputs": [],
   "source": [
    "tar\n",
    "创建一个新的tar文件\n",
    "$ tar cvf archive_name.tar dirname/\n",
    "\n",
    "解压tar文件\n",
    "$ tar xvf archive_name.tar\n",
    "\n",
    "查看tar文件\n",
    "$ tar tvf archive_name.tar"
   ]
  },
  {
   "cell_type": "code",
   "execution_count": null,
   "metadata": {
    "collapsed": true
   },
   "outputs": [],
   "source": [
    "mv\n",
    "将文件名file1重命名为file2，如果file2存在则提示是否覆盖\n",
    "$ mv -i file1 file2\n",
    "\n",
    "注意如果使用-f选项则不会进行提示\n",
    "-v会输出重命名的过程，当文件名中包含通配符时，这个选项会非常方便\n",
    "\n",
    "$ mv -v file1 file2"
   ]
  },
  {
   "cell_type": "code",
   "execution_count": null,
   "metadata": {
    "collapsed": true
   },
   "outputs": [],
   "source": [
    "cat\n",
    "你可以一次查看多个文件的内容，下面的命令会先打印file1的内容，然后打印file2的内容\n",
    "$ cat file1 file2\n",
    "\n",
    "-n命令可以在每行的前面加上行号\n",
    "$ cat -n /etc/logrotate.conf\n",
    "    1\t/var/log/btmp {\n",
    "    2\t    missingok\n",
    "    3\t    monthly\n",
    "    4\t    create 0660 root utmp\n",
    "    5\t    rotate 1\n",
    "    6\t}"
   ]
  },
  {
   "cell_type": "code",
   "execution_count": null,
   "metadata": {
    "collapsed": true
   },
   "outputs": [],
   "source": [
    "cp\n",
    "拷贝文件1到文件2，并保持文件的权限、属主和时间戳\n",
    "$ cp -p file1 file2\n",
    "\n",
    "拷贝file1到file2，如果file2存在会提示是否覆盖\n",
    "$ cp -i file1 file2"
   ]
  },
  {
   "cell_type": "code",
   "execution_count": null,
   "metadata": {
    "collapsed": true
   },
   "outputs": [],
   "source": [
    "rm\n",
    "删除文件前先确认\n",
    "\n",
    "$ rm -i filename.txt\n",
    "在文件名中使用shell的元字符会非常有用。删除文件前先打印文件名并进行确认\n",
    "\n",
    "$ rm -i file*\n",
    "递归删除文件夹下所有文件，并删除该文件夹\n",
    "\n",
    "$ rm -r example"
   ]
  },
  {
   "cell_type": "code",
   "execution_count": null,
   "metadata": {
    "collapsed": true
   },
   "outputs": [],
   "source": [
    "yum\n",
    "使用yum安装apache\n",
    "$ yum install httpd\n",
    "\n",
    "更新apache\n",
    "$ yum update httpd\n",
    "\n",
    "卸载/删除apache\n",
    "\n",
    "$ yum remove httpd"
   ]
  },
  {
   "cell_type": "code",
   "execution_count": null,
   "metadata": {
    "collapsed": true
   },
   "outputs": [],
   "source": [
    "chmod命令\n",
    "Linux/Unix 的文件调用权限分为三级 : 文件拥有者、群组、其他。利用 chmod 可以藉以控制文件如何被他人所调用。\n",
    "使用权限 : 所有使用者\n",
    "语法\n",
    "chmod [-cfvR] [--help] [--version] mode file...\n",
    "\n",
    "将文件 file1.txt 设为所有人皆可读取 :\n",
    "chmod a+r file1.txt"
   ]
  },
  {
   "cell_type": "code",
   "execution_count": null,
   "metadata": {
    "collapsed": true
   },
   "outputs": [],
   "source": [
    "Linux sudo命令\n",
    "\n",
    "Linux sudo命令以系统管理者的身份执行指令，也就是说，经由 sudo 所执行的指令就好像是 root \n",
    "亲自执行。使用权限：在 /etc/sudoers 中有出现的使用者。"
   ]
  },
  {
   "cell_type": "code",
   "execution_count": null,
   "metadata": {
    "collapsed": true
   },
   "outputs": [],
   "source": [
    "ps\n",
    "ps命令用于显示正在运行中的进程的信息，ps命令有很多选项，这里只列出了几个\n",
    "\n",
    "查看当前正在运行的所有进程\n",
    "$ ps -ef | more\n",
    "\n",
    "以树状结构显示当前正在运行的进程，H选项表示显示进程的层次结构\n",
    "\n",
    "$ ps -efH | more"
   ]
  },
  {
   "cell_type": "code",
   "execution_count": null,
   "metadata": {
    "collapsed": true
   },
   "outputs": [],
   "source": [
    "kill\n",
    "kill用于终止一个进程。\n",
    "\n",
    "一般我们会先用ps -ef查找某个进程得到它的进程号，然后再使用kill -9 进程号终止该进程。\n",
    "你还可以使用killall、pkill、xkill来终止进程\n",
    "$ ps -ef | grep vim\n",
    "ramesh    7243  7222  9 22:43 pts/2    00:00:00 vim\n",
    "\n",
    "$ kill -9 7243"
   ]
  },
  {
   "cell_type": "code",
   "execution_count": null,
   "metadata": {
    "collapsed": true
   },
   "outputs": [],
   "source": [
    "grep\n",
    "在文件中查找字符串(不区分大小写)\n",
    "$ grep -i \"the\" demo_file\n",
    "\n",
    "输出成功匹配的行，以及该行之后的三行\n",
    "$ grep -A 3 -i \"example\" demo_text\n",
    "\n",
    "在一个文件夹中递归查询包含指定字符串的文件\n",
    "$ grep -r \"ramesh\" *"
   ]
  },
  {
   "cell_type": "markdown",
   "metadata": {},
   "source": [
    "# Shell 教程"
   ]
  },
  {
   "cell_type": "code",
   "execution_count": null,
   "metadata": {
    "collapsed": true
   },
   "outputs": [],
   "source": [
    "Shell 是一个用 C 语言编写的程序，它是用户使用 Linux 的桥梁。Shell 既是一种命令语言，又是一种程序设计语言。\n",
    "Shell 是指一种应用程序，这个应用程序提供了一个界面，用户通过这个界面访问操作系统内核的服务。\n",
    "Ken Thompson 的 sh 是第一种 Unix Shell，Windows Explorer 是一个典型的图形界面 Shell。"
   ]
  },
  {
   "cell_type": "code",
   "execution_count": null,
   "metadata": {
    "collapsed": true
   },
   "outputs": [],
   "source": [
    "Shell 环境\n",
    "Shell 编程跟 java、php 编程一样，只要有一个能编写代码的文本编辑器和一个能解释执行的脚本解释器就可以了。\n",
    "Linux 的 Shell 种类众多，常见的有：\n",
    "Bourne Shell（/usr/bin/sh或/bin/sh）\n",
    "Bourne Again Shell（/bin/bash）\n",
    "C Shell（/usr/bin/csh）\n",
    "K Shell（/usr/bin/ksh）\n",
    "Shell for Root（/sbin/sh）\n",
    "……\n",
    "本教程关注的是 Bash，也就是 Bourne Again Shell，由于易用和免费，Bash 在日常工作中被广泛使用。同时，Bash 也是大多数Linux 系统默认的 Shell。\n",
    "在一般情况下，人们并不区分 Bourne Shell 和 Bourne Again Shell，所以，像 #!/bin/sh，它同样也可以改为 #!/bin/bash。\n",
    "#! 告诉系统其后路径所指定的程序即是解释此脚本文件的 Shell 程序。"
   ]
  },
  {
   "cell_type": "code",
   "execution_count": null,
   "metadata": {
    "collapsed": true
   },
   "outputs": [],
   "source": [
    "打开文本编辑器(可以使用 vi/vim 命令来创建文件)，新建一个文件 test.sh，扩展名为 sh（sh代表shell）\n",
    "#!/bin/bash\n",
    "echo \"Hello World !\"\n",
    "\n",
    "#! 是一个约定的标记，它告诉系统这个脚本需要什么解释器来执行，即使用哪一种 Shell。\n",
    "echo 命令用于向窗口输出文本。"
   ]
  },
  {
   "cell_type": "code",
   "execution_count": null,
   "metadata": {
    "collapsed": true
   },
   "outputs": [],
   "source": [
    "运行 Shell 脚本有两种方法：\n",
    "\n",
    "1、作为可执行程序\n",
    "将上面的代码保存为 test.sh，并 cd 到相应目录：\n",
    "chmod +x ./test.sh  #使脚本具有执行权限\n",
    "./test.sh  #执行脚本\n",
    "\n",
    "注意，一定要写成 ./test.sh，而不是 test.sh，运行其它二进制的程序也一样，\n",
    "直接写 test.sh，linux 系统会去 PATH 里寻找有没有叫 test.sh 的，而只有 /bin, /sbin, \n",
    "/usr/bin，/usr/sbin 等在 PATH 里，你的当前目录通常不在 PATH 里，所以写成 test.sh 是会\n",
    "找不到命令的，要用 ./test.sh 告诉系统说，就在当前目录找。\n",
    "\n",
    "2、作为解释器参数\n",
    "这种运行方式是，直接运行解释器，其参数就是 shell 脚本的文件名，如：\n",
    "/bin/sh test.sh\n",
    "/bin/php test.php"
   ]
  }
 ],
 "metadata": {
  "kernelspec": {
   "display_name": "Python [conda root]",
   "language": "python",
   "name": "conda-root-py"
  },
  "language_info": {
   "codemirror_mode": {
    "name": "ipython",
    "version": 3
   },
   "file_extension": ".py",
   "mimetype": "text/x-python",
   "name": "python",
   "nbconvert_exporter": "python",
   "pygments_lexer": "ipython3",
   "version": "3.6.0"
  }
 },
 "nbformat": 4,
 "nbformat_minor": 2
}
